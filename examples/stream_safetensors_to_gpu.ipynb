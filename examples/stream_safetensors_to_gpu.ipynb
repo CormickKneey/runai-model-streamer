{
 "cells": [
  {
   "cell_type": "markdown",
   "metadata": {},
   "source": [
    "# Stream Model To GPU\n",
    "\n",
    "## Prerequisite\n",
    "Run this notebook on a GPU machine.\n",
    "\n",
    "## Preperation\n",
    "We will start by downloading an example `.safetensors` file. Feel free to use your own."
   ]
  },
  {
   "cell_type": "code",
   "execution_count": 11,
   "metadata": {},
   "outputs": [],
   "source": [
    "import subprocess\n",
    "\n",
    "def download_file_with_curl(url, local_filename):\n",
    "    wget_command = ['wget', '--content-disposition', url, '-O', local_filename]\n",
    "    \n",
    "    try:\n",
    "        subprocess.run(wget_command, check=True, stdout=subprocess.PIPE, stderr=subprocess.PIPE)\n",
    "    except subprocess.CalledProcessError as e:\n",
    "        print(f\"Error occurred: {e.stderr.decode()}\")\n",
    "\n",
    "url = 'https://huggingface.co/vidore/colpali/resolve/main/adapter_model.safetensors?download=true'\n",
    "local_filename = 'model.safetensors'\n",
    "download_file_with_curl(url, local_filename)"
   ]
  },
  {
   "cell_type": "markdown",
   "metadata": {},
   "source": [
    "## Streaming\n",
    "\n",
    "To load the tensors from the file we need to create `SafetensorsStreamer` instance, perform the request, and transfer the tensors to the GPU memory."
   ]
  },
  {
   "cell_type": "code",
   "execution_count": 12,
   "metadata": {},
   "outputs": [
    {
     "name": "stdout",
     "output_type": "stream",
     "text": [
      "Read throughput is 1.60 KB per second \n",
      "Read throughput is 39.25 MB per second \n",
      "[RunAI Streamer] CPU Buffer size: 74.9 MiB for file: model.safetensors\n"
     ]
    },
    {
     "name": "stdout",
     "output_type": "stream",
     "text": [
      "Read throughput is 257.66 MB per second \n",
      "[RunAI Streamer] Overall time to stream 74.9 MiB of all files: 0.32s, 236.3 MiB/s\n"
     ]
    }
   ],
   "source": [
    "from runai_model_streamer import SafetensorsStreamer\n",
    "\n",
    "file_path = \"model.safetensors\"\n",
    "\n",
    "with SafetensorsStreamer() as streamer:\n",
    "    streamer.stream_file(file_path)\n",
    "    for name, tensor in streamer.get_tensors():\n",
    "        gpu_tensor = tensor.to('CUDA:0')"
   ]
  },
  {
   "cell_type": "markdown",
   "metadata": {},
   "source": [
    "After you have the tensors in the GPU memory you are free to use it in `nn.Module` or alternatively use it freely"
   ]
  }
 ],
 "metadata": {
  "kernelspec": {
   "display_name": "Python 3",
   "language": "python",
   "name": "python3"
  },
  "language_info": {
   "codemirror_mode": {
    "name": "ipython",
    "version": 3
   },
   "file_extension": ".py",
   "mimetype": "text/x-python",
   "name": "python",
   "nbconvert_exporter": "python",
   "pygments_lexer": "ipython3",
   "version": "3.8.10"
  }
 },
 "nbformat": 4,
 "nbformat_minor": 2
}
