{
 "cells": [
  {
   "cell_type": "markdown",
   "metadata": {},
   "source": [
    "# Stream Chunks From File To CPU Memory\n",
    "\n",
    "In this notebook we are going to read file from the storage in chunks. For example, we will read `Harry Potter and the Sorcerer's Stone` book, chapter by chapter, and perform summerization for each chapter, while the rest of the chapters still read from the storage.\n",
    "\n",
    "## Preperation\n",
    "We will download the book file:"
   ]
  },
  {
   "cell_type": "code",
   "execution_count": null,
   "metadata": {},
   "outputs": [],
   "source": [
    "import subprocess\n",
    "\n",
    "url = \"https://github.com/amephraim/nlp/raw/refs/heads/master/texts/J.%20K.%20Rowling%20-%20Harry%20Potter%201%20-%20Sorcerer's%20Stone.txt\"\n",
    "local_filename = 'book.txt'\n",
    "\n",
    "wget_command = ['wget', '--content-disposition', url, '-O', local_filename]\n",
    "subprocess.run(wget_command, check=True, stdout=subprocess.PIPE, stderr=subprocess.PIPE)"
   ]
  },
  {
   "cell_type": "markdown",
   "metadata": {},
   "source": [
    "We will now analyze what is the size of each chapter (chunk) and where start the first chapter (file offset)"
   ]
  },
  {
   "cell_type": "code",
   "execution_count": null,
   "metadata": {},
   "outputs": [],
   "source": [
    "def find_chapter_sizes_and_first_index(file_path):\n",
    "    chapter_sizes = []\n",
    "    first_index = None\n",
    "    \n",
    "    with open(file_path, 'r') as file:\n",
    "        content = file.read()\n",
    "        word = \"CHAPTER\"\n",
    "        chapter_positions = []\n",
    "        index = content.find(word)\n",
    "        \n",
    "        while index != -1:\n",
    "            chapter_positions.append(index)\n",
    "            if first_index is None:\n",
    "                first_index = index\n",
    "            index = content.find(word, index + 1)\n",
    "        \n",
    "        chapter_positions.append(len(content))\n",
    "\n",
    "        for i in range(len(chapter_positions) - 1):\n",
    "            chapter_size = chapter_positions[i + 1] - chapter_positions[i]\n",
    "            chapter_sizes.append(chapter_size)\n",
    "    \n",
    "    return chapter_sizes, first_index\n",
    "\n",
    "chapter_sizes, first_index = find_chapter_sizes_and_first_index('book.txt')\n",
    "print(f\"First chapter starts at: {first_index}\\nChapter sizes: {chapter_sizes}\")"
   ]
  },
  {
   "cell_type": "markdown",
   "metadata": {},
   "source": [
    "## Streaming\n",
    "\n",
    "To load the chapters (chunks) from the file we need to create `FileStreamer` instance, perform the request, and start iterating the chapters:"
   ]
  },
  {
   "cell_type": "code",
   "execution_count": null,
   "metadata": {},
   "outputs": [],
   "source": [
    "from runai_model_streamer import FileStreamer\n",
    "\n",
    "file_path = \"book.txt\"\n",
    "\n",
    "def summerize_chapter(buffer, index):\n",
    "    # Perform heavy computation with the chapter text\n",
    "    # For example summerize the content\n",
    "    print(buffer[index:index + 20])\n",
    "    return\n",
    "\n",
    "with FileStreamer() as streamer:\n",
    "    streamer.stream_file(file_path, first_index, chapter_sizes)\n",
    "    for chapter_index, buffer, buffer_offset in streamer.get_chunks():\n",
    "        summerize_chapter(buffer, buffer_offset)"
   ]
  },
  {
   "cell_type": "markdown",
   "metadata": {},
   "source": [
    "A heavy workload can be running on each tensor in the moment the tensoe is yielded - as the CPP threads continue reading from the storage. "
   ]
  }
 ],
 "metadata": {
  "kernelspec": {
   "display_name": "Python 3",
   "language": "python",
   "name": "python3"
  },
  "language_info": {
   "codemirror_mode": {
    "name": "ipython",
    "version": 3
   },
   "file_extension": ".py",
   "mimetype": "text/x-python",
   "name": "python",
   "nbconvert_exporter": "python",
   "pygments_lexer": "ipython3",
   "version": "3.8.10"
  }
 },
 "nbformat": 4,
 "nbformat_minor": 2
}
